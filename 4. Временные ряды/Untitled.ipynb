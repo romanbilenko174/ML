{
 "cells": [
  {
   "cell_type": "markdown",
   "metadata": {},
   "source": []
  },
  {
   "cell_type": "code",
   "execution_count": 94,
   "metadata": {
    "scrolled": true
   },
   "outputs": [
    {
     "name": "stdout",
     "output_type": "stream",
     "text": [
      "Train Scores: [100.0, 100.0, 100.0, 100.0, 100.0]\n",
      "Train Mean Accuracy: 100.000%\n"
     ]
    },
    {
     "ename": "Error",
     "evalue": "iterable expected, not float",
     "output_type": "error",
     "traceback": [
      "\u001b[1;31m---------------------------------------------------------------------------\u001b[0m",
      "\u001b[1;31mError\u001b[0m                                     Traceback (most recent call last)",
      "\u001b[1;32m<ipython-input-94-a0d68a65e3d6>\u001b[0m in \u001b[0;36m<module>\u001b[1;34m\u001b[0m\n\u001b[0;32m    115\u001b[0m         \u001b[0mwriter\u001b[0m \u001b[1;33m=\u001b[0m \u001b[0mcsv\u001b[0m\u001b[1;33m.\u001b[0m\u001b[0mwriter\u001b[0m\u001b[1;33m(\u001b[0m\u001b[0mcsv_file\u001b[0m\u001b[1;33m,\u001b[0m \u001b[0mdelimiter\u001b[0m\u001b[1;33m=\u001b[0m\u001b[1;34m','\u001b[0m\u001b[1;33m)\u001b[0m\u001b[1;33m\u001b[0m\u001b[1;33m\u001b[0m\u001b[0m\n\u001b[0;32m    116\u001b[0m         \u001b[1;32mfor\u001b[0m \u001b[0mline\u001b[0m \u001b[1;32min\u001b[0m \u001b[0mtest_result\u001b[0m\u001b[1;33m:\u001b[0m\u001b[1;33m\u001b[0m\u001b[1;33m\u001b[0m\u001b[0m\n\u001b[1;32m--> 117\u001b[1;33m             \u001b[0mwriter\u001b[0m\u001b[1;33m.\u001b[0m\u001b[0mwriterow\u001b[0m\u001b[1;33m(\u001b[0m\u001b[0mline\u001b[0m\u001b[1;33m)\u001b[0m\u001b[1;33m\u001b[0m\u001b[1;33m\u001b[0m\u001b[0m\n\u001b[0m",
      "\u001b[1;31mError\u001b[0m: iterable expected, not float"
     ]
    }
   ],
   "source": [
    "# Test CART on Bank Note dataset\n",
    "from DecisionTree import *\n",
    "\n",
    "from random import seed\n",
    "\n",
    "import csv\n",
    "\n",
    "seed(1)\n",
    "filename = 'train.csv'\n",
    "dataset = load_csv(filename)\n",
    "counter = -1\n",
    "k = 12\n",
    "\n",
    "for i in dataset:\n",
    "    counter +=1\n",
    "    \n",
    "for i in range(counter):\n",
    "    \n",
    "    for j in range(k):\n",
    "        \n",
    "        if(dataset[i][j]==\"male\"):\n",
    "            \n",
    "            dataset[i][j] = 0\n",
    "            \n",
    "        elif (dataset[i][j]==\"female\"):\n",
    "            \n",
    "            dataset[i][j] = 1\n",
    "            \n",
    "for i in range(counter):\n",
    "    \n",
    "    for j in range(k):\n",
    "        \n",
    "        if(dataset[i][j]==\"C\"):\n",
    "            \n",
    "            dataset[i][j] = 1\n",
    "            \n",
    "        elif (dataset[i][j]==\"S\"):\n",
    "            \n",
    "            dataset[i][j] = 2\n",
    "            \n",
    "        elif (dataset[i][j]==\"Q\"):\n",
    "            \n",
    "            dataset[i][j] = 3\n",
    "            \n",
    "\n",
    "\n",
    "for i in range(len(dataset[0])):\n",
    "    \n",
    "    str_column_to_float(dataset, i)\n",
    "    \n",
    "del dataset[0]\n",
    "new_ds = [[ 0 for j in range(k)] for i in range(counter)]\n",
    "for i in range(counter):\n",
    "    for j in range(k):\n",
    "        if (not(isinstance(dataset[i][j], str))) :\n",
    "            new_ds[i][j] = dataset[i][j]\n",
    "for i in range(counter):\n",
    "    for j in range(k):\n",
    "        if new_ds[i][j] == '':\n",
    "            new_ds[i][j] = 0\n",
    "\n",
    "n_folds = 5\n",
    "max_depth = 5\n",
    "min_size = 10\n",
    "for i in range(counter):\n",
    "    tmp = dataset[i][1]\n",
    "    new_ds[i][5] = new_ds[i][-1]\n",
    "    new_ds[i][-1] = tmp\n",
    "tree  = build_tree(new_ds, max_depth, min_size)\n",
    "scores = evaluate_algorithm(new_ds,decision_tree, n_folds, tree,max_depth, min_size)\n",
    "print('Train Scores: %s' % scores)\n",
    "print('Train Mean Accuracy: %.3f%%' % (sum(scores)/float(len(scores))))\n",
    "\n",
    "filename = 'test.csv'\n",
    "test_dataset = load_csv(filename)\n",
    "filename = \"gender_submission.csv\"\n",
    "kaggle_dataset = load_csv(filename)\n",
    "counter = -1\n",
    "for i in test_dataset:\n",
    "    counter +=1\n",
    "for i in range(counter):\n",
    "    test_dataset[i].append(kaggle_dataset[i][1])\n",
    "\n",
    "for i in range(counter):\n",
    "    for j in range(k):\n",
    "        if(test_dataset[i][j]==\"male\"):\n",
    "            test_dataset[i][j] = 0\n",
    "        elif (test_dataset[i][j]==\"female\"):\n",
    "            test_dataset[i][j] = 1\n",
    "for i in range(counter):\n",
    "    for j in range(k):\n",
    "        if(test_dataset[i][j]==\"C\"):\n",
    "            test_dataset[i][j] = 1\n",
    "        elif (test_dataset[i][j]==\"S\"):\n",
    "            test_dataset[i][j] = 2\n",
    "        elif (test_dataset[i][j]==\"Q\"):\n",
    "            test_dataset[i][j] = 3\n",
    "        \n",
    "for i in range(len(test_dataset[0])):\n",
    "    str_column_to_float(test_dataset, i)\n",
    "\n",
    "del dataset[0]\n",
    "test_ds = [[ 0 for j in range(k)] for i in range(counter)]\n",
    "for i in range(counter):\n",
    "    for j in range(k):\n",
    "        if (not(isinstance(test_dataset[i][j], str))) :\n",
    "            test_ds[i][j] = test_dataset[i][j]\n",
    "for i in range(counter):\n",
    "    for j in range(k):\n",
    "        if test_ds[i][j] == '':\n",
    "            test_ds[i][j] = 0\n",
    "test_result = decision_tree(new_ds, test_ds,tree, max_depth, min_size)\n"
   ]
  },
  {
   "cell_type": "code",
   "execution_count": null,
   "metadata": {},
   "outputs": [],
   "source": [
    "\n",
    "\n",
    "\n"
   ]
  },
  {
   "cell_type": "code",
   "execution_count": null,
   "metadata": {},
   "outputs": [],
   "source": []
  },
  {
   "cell_type": "code",
   "execution_count": null,
   "metadata": {},
   "outputs": [],
   "source": []
  }
 ],
 "metadata": {
  "kernelspec": {
   "display_name": "Python 3",
   "language": "python",
   "name": "python3"
  },
  "language_info": {
   "codemirror_mode": {
    "name": "ipython",
    "version": 3
   },
   "file_extension": ".py",
   "mimetype": "text/x-python",
   "name": "python",
   "nbconvert_exporter": "python",
   "pygments_lexer": "ipython3",
   "version": "3.7.1"
  }
 },
 "nbformat": 4,
 "nbformat_minor": 2
}
