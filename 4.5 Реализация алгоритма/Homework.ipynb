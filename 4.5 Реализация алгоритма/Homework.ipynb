{
 "cells": [
  {
   "cell_type": "markdown",
   "metadata": {},
   "source": [
    "### За основу взята серия уроков Coding a Decision Tree from Scratch\n",
    "https://www.youtube.com/watch?v=y6DmpG_PtN0"
   ]
  },
  {
   "cell_type": "code",
   "execution_count": 1,
   "metadata": {
    "scrolled": true
   },
   "outputs": [
    {
     "data": {
      "text/html": [
       "<div>\n",
       "<style scoped>\n",
       "    .dataframe tbody tr th:only-of-type {\n",
       "        vertical-align: middle;\n",
       "    }\n",
       "\n",
       "    .dataframe tbody tr th {\n",
       "        vertical-align: top;\n",
       "    }\n",
       "\n",
       "    .dataframe thead th {\n",
       "        text-align: right;\n",
       "    }\n",
       "</style>\n",
       "<table border=\"1\" class=\"dataframe\">\n",
       "  <thead>\n",
       "    <tr style=\"text-align: right;\">\n",
       "      <th></th>\n",
       "      <th>PassengerId</th>\n",
       "      <th>Survived</th>\n",
       "    </tr>\n",
       "  </thead>\n",
       "  <tbody>\n",
       "    <tr>\n",
       "      <th>0</th>\n",
       "      <td>892</td>\n",
       "      <td>0</td>\n",
       "    </tr>\n",
       "    <tr>\n",
       "      <th>1</th>\n",
       "      <td>893</td>\n",
       "      <td>0</td>\n",
       "    </tr>\n",
       "    <tr>\n",
       "      <th>2</th>\n",
       "      <td>894</td>\n",
       "      <td>0</td>\n",
       "    </tr>\n",
       "    <tr>\n",
       "      <th>3</th>\n",
       "      <td>895</td>\n",
       "      <td>0</td>\n",
       "    </tr>\n",
       "    <tr>\n",
       "      <th>4</th>\n",
       "      <td>896</td>\n",
       "      <td>1</td>\n",
       "    </tr>\n",
       "  </tbody>\n",
       "</table>\n",
       "</div>"
      ],
      "text/plain": [
       "   PassengerId  Survived\n",
       "0          892         0\n",
       "1          893         0\n",
       "2          894         0\n",
       "3          895         0\n",
       "4          896         1"
      ]
     },
     "execution_count": 1,
     "metadata": {},
     "output_type": "execute_result"
    }
   ],
   "source": [
    "import numpy as np\n",
    "import pandas as pd\n",
    "import random\n",
    "from DecisionTree import *\n",
    "train_df = pd.read_csv(\"train.csv\")\n",
    "train_df[\"label\"] = train_df.Survived\n",
    "train_df = train_df.drop([\"PassengerId\", \"Survived\", \"Name\", \"Ticket\", \"Cabin\"], axis=1)\n",
    "\n",
    "median_age = train_df.Age.median()\n",
    "mode_embarked = train_df.Embarked.mode()[0]\n",
    "\n",
    "train_df = train_df.fillna({\"Age\": median_age, \"Embarked\": mode_embarked})\n",
    "\n",
    "test_df = pd.read_csv(\"test.csv\")\n",
    "test_df = test_df.drop([\"PassengerId\", \"Name\", \"Ticket\", \"Cabin\"], axis=1)\n",
    "\n",
    "median_age = test_df.Age.median()\n",
    "mode_embarked = test_df.Embarked.mode()[0]\n",
    "\n",
    "test_df = test_df.fillna({\"Age\": median_age, \"Embarked\": mode_embarked})\n",
    "\n",
    "dt = DecisionTree()\n",
    "random.seed(0)\n",
    "tree = dt.decision_tree_algorithm(train_df, max_depth=10)\n",
    "accuracy = dt.predictedValues(test_df, tree)\n",
    "\n",
    "df = pd.read_csv(\"test.csv\")\n",
    "df= df.drop([\"Name\", \"Ticket\", \"Cabin\",\"Pclass\",\"Fare\",\"Embarked\",\"Sex\",\"Age\",\"SibSp\",\"Parch\"], axis=1)\n",
    "answer = pd.DataFrame(accuracy, columns=['classification'])\n",
    "answer['PassengerId'] = df['PassengerId']\n",
    "answer= answer.reindex(columns=['PassengerId', 'classification'])\n",
    "answer['classification'] = answer['classification'].astype('int')\n",
    "answer['Survived'] = answer['classification']\n",
    "answer=answer.drop(\"classification\", axis = 1)\n",
    "answer.to_csv('answer.csv', index = False)\n",
    "answer.head()"
   ]
  },
  {
   "cell_type": "markdown",
   "metadata": {},
   "source": [
    "### Результат на Kaggle - 0.74"
   ]
  },
  {
   "cell_type": "code",
   "execution_count": null,
   "metadata": {},
   "outputs": [],
   "source": []
  }
 ],
 "metadata": {
  "kernelspec": {
   "display_name": "Python 3",
   "language": "python",
   "name": "python3"
  },
  "language_info": {
   "codemirror_mode": {
    "name": "ipython",
    "version": 3
   },
   "file_extension": ".py",
   "mimetype": "text/x-python",
   "name": "python",
   "nbconvert_exporter": "python",
   "pygments_lexer": "ipython3",
   "version": "3.7.1"
  }
 },
 "nbformat": 4,
 "nbformat_minor": 2
}
